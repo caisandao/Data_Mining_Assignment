{
 "cells": [
  {
   "cell_type": "code",
   "execution_count": 2,
   "metadata": {},
   "outputs": [],
   "source": [
    "import pandas as pd\n",
    "from scipy.io import loadmat\n",
    "from dtaidistance import dtw_ndim\n",
    "from dtaidistance import dtw_ndim_visualisation\n",
    "import dtw\n",
    "from tqdm import tqdm\n",
    "import numpy as np\n",
    "from sklearn.metrics.cluster import normalized_mutual_info_score\n",
    "import matplotlib.pyplot as plt\n",
    "import sklearn\n",
    "from sklearn.cluster import SpectralClustering\n",
    "from sklearn.cluster import DBSCAN\n",
    "from sklearn_extra.cluster import KMedoids"
   ]
  },
  {
   "cell_type": "markdown",
   "metadata": {},
   "source": [
    "CROSS数据集"
   ]
  },
  {
   "cell_type": "code",
   "execution_count": 17,
   "metadata": {},
   "outputs": [
    {
     "name": "stdout",
     "output_type": "stream",
     "text": [
      "(200, 1)\n",
      "(200,)\n"
     ]
    }
   ],
   "source": [
    "tracks = np.load(\"../CROSS_dataset/cross/tracs.npy\", allow_pickle=True)\n",
    "for i in range(tracks.shape[0]):\n",
    "    tracks[i][0] = tracks[i][0].transpose([1, 0])\n",
    "labels = np.load(\"../CROSS_dataset/cross/labels.npy\", allow_pickle=True)\n",
    "labels.flatten\n",
    "print(tracks.shape)\n",
    "print(labels.shape)"
   ]
  },
  {
   "cell_type": "code",
   "execution_count": 19,
   "metadata": {},
   "outputs": [
    {
     "name": "stderr",
     "output_type": "stream",
     "text": [
      "100%|██████████| 200/200 [00:36<00:00,  5.43it/s]\n"
     ]
    }
   ],
   "source": [
    "dis_mat = np.zeros([tracks.shape[0], tracks.shape[0]])\n",
    "with tqdm(total=tracks.shape[0]) as pbar1:\n",
    "    for num1,track1 in enumerate(tracks):\n",
    "        for num2,track2 in enumerate(tracks):\n",
    "            if num1 < num2:\n",
    "                dis=dtw_ndim.distance(track1[0], track2[0])\n",
    "                dis_mat[num1,num2]=dis\n",
    "                dis_mat[num2,num1]=dis\n",
    "        pbar1.update(1)\n",
    "np.save(\"CROSS_dis_mat.npy\",dis_mat)"
   ]
  },
  {
   "cell_type": "code",
   "execution_count": 20,
   "metadata": {},
   "outputs": [],
   "source": [
    "#similarity = np.exp(-beta * distance / distance.std())\n",
    "sim_mat = np.exp(-0.5 * dis_mat / dis_mat.std())\n",
    "np.save(\"CROSS_sim_mat.npy\", sim_mat)"
   ]
  },
  {
   "cell_type": "code",
   "execution_count": 21,
   "metadata": {},
   "outputs": [],
   "source": [
    "dis_mat=np.load(\"CROSS_dis_mat.npy\")\n",
    "sim_mat=np.load(\"CROSS_sim_mat.npy\")"
   ]
  },
  {
   "cell_type": "markdown",
   "metadata": {},
   "source": [
    "聚类算法实现"
   ]
  },
  {
   "cell_type": "code",
   "execution_count": 22,
   "metadata": {},
   "outputs": [
    {
     "name": "stdout",
     "output_type": "stream",
     "text": [
      "sse_max: 0.82581094775327\n",
      "best_k: 13\n",
      "nmi: 0.9256235676432637\n",
      "ari: 0.7542315718745844\n"
     ]
    }
   ],
   "source": [
    "sse_max = -1\n",
    "best_k = 0\n",
    "sse_list = []\n",
    "for k in range(2, 21):\n",
    "    res = SpectralClustering(n_clusters=k, affinity='precomputed').fit(sim_mat)\n",
    "    tmp = sklearn.metrics.silhouette_score(X=dis_mat, labels=res.labels_, metric='precomputed' )\n",
    "    sse_list.append(tmp)\n",
    "    if tmp > sse_max:\n",
    "        sse_max = tmp\n",
    "        best_k = k\n",
    "best_res = SpectralClustering(n_clusters=best_k, affinity='precomputed').fit(sim_mat)\n",
    "nmi = sklearn.metrics.normalized_mutual_info_score(labels_true=labels, labels_pred=best_res.labels_)\n",
    "ari = sklearn.metrics.adjusted_rand_score(labels_true=labels, labels_pred=best_res.labels_)\n",
    "\n",
    "print(\"sse_max:\", sse_max)\n",
    "print(\"best_k:\", best_k)\n",
    "print(\"nmi:\", nmi)\n",
    "print(\"ari:\", ari)"
   ]
  },
  {
   "cell_type": "code",
   "execution_count": 24,
   "metadata": {},
   "outputs": [
    {
     "name": "stdout",
     "output_type": "stream",
     "text": [
      "sse_max: 0.82581094775327\n",
      "best_eps: 68\n",
      "nmi: 0.9256235676432637\n",
      "ari: 0.7542315718745844\n"
     ]
    }
   ],
   "source": [
    "norm_dis_mat = dis_mat / (dis_mat.max() - dis_mat.min()) * 1000.0\n",
    "#print(norm_dis_mat)\n",
    "best_eps = -1\n",
    "sse_max = -1\n",
    "sse_list = []\n",
    "for r in range(30, 200):\n",
    "    res = DBSCAN(eps=r, metric='precomputed').fit(norm_dis_mat)\n",
    "    #print(res.labels_)\n",
    "    tmp = sklearn.metrics.silhouette_score(X=norm_dis_mat, labels=res.labels_, metric='precomputed' )\n",
    "    sse_list.append(tmp)\n",
    "    if tmp > sse_max:\n",
    "        sse_max = tmp\n",
    "        best_eps = r\n",
    "nmi = sklearn.metrics.normalized_mutual_info_score(labels_true=labels, labels_pred=res.labels_)\n",
    "ari = sklearn.metrics.adjusted_rand_score(labels_true=labels, labels_pred=res.labels_)\n",
    "print(\"sse_max:\", sse_max)\n",
    "print(\"best_eps:\", best_eps)\n",
    "print(\"nmi:\", nmi)\n",
    "print(\"ari:\", ari)"
   ]
  },
  {
   "cell_type": "code",
   "execution_count": 25,
   "metadata": {},
   "outputs": [
    {
     "name": "stdout",
     "output_type": "stream",
     "text": [
      "sse_max: 0.6125915041861852\n",
      "best_k: 8\n",
      "nmi: 0.7990073449906595\n",
      "ari: 0.476636096694667\n"
     ]
    }
   ],
   "source": [
    "sse_max = -1\n",
    "best_k = 0\n",
    "sse_list = []\n",
    "for k in range(2, 21):\n",
    "    res = KMedoids(n_clusters=k, metric='precomputed').fit(dis_mat)\n",
    "    tmp = sklearn.metrics.silhouette_score(X=dis_mat, labels=res.labels_, metric='precomputed' )\n",
    "    sse_list.append(tmp)\n",
    "    if tmp > sse_max:\n",
    "        sse_max = tmp\n",
    "        best_k = k\n",
    "best_res = KMedoids(n_clusters=best_k, metric='precomputed').fit(dis_mat)\n",
    "nmi = sklearn.metrics.normalized_mutual_info_score(labels_true=labels, labels_pred=best_res.labels_)\n",
    "ari = sklearn.metrics.adjusted_rand_score(labels_true=labels, labels_pred=best_res.labels_)\n",
    "\n",
    "print(\"sse_max:\", sse_max)\n",
    "print(\"best_k:\", best_k)\n",
    "print(\"nmi:\", nmi)\n",
    "print(\"ari:\", ari)"
   ]
  }
 ],
 "metadata": {
  "interpreter": {
   "hash": "450770b194ad3c526d72e78f0fffc46d9f199ddffc77daa2aadce905eb3548da"
  },
  "kernelspec": {
   "display_name": "Python 3.7.9 64-bit",
   "name": "python3"
  },
  "language_info": {
   "codemirror_mode": {
    "name": "ipython",
    "version": 3
   },
   "file_extension": ".py",
   "mimetype": "text/x-python",
   "name": "python",
   "nbconvert_exporter": "python",
   "pygments_lexer": "ipython3",
   "version": "3.7.9"
  },
  "orig_nbformat": 4
 },
 "nbformat": 4,
 "nbformat_minor": 2
}
