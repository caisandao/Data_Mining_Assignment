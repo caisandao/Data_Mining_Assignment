{
 "cells": [
  {
   "cell_type": "code",
   "execution_count": 27,
   "metadata": {},
   "outputs": [],
   "source": [
    "import pandas as pd\n",
    "from scipy.io import loadmat\n",
    "from dtaidistance import dtw_ndim\n",
    "from dtaidistance import dtw_ndim_visualisation\n",
    "import dtw\n",
    "from tqdm import tqdm\n",
    "import numpy as np\n",
    "from sklearn.metrics.cluster import normalized_mutual_info_score\n",
    "import matplotlib.pyplot as plt\n",
    "import sklearn\n",
    "from sklearn.cluster import SpectralClustering\n",
    "from sklearn.cluster import DBSCAN\n",
    "from sklearn_extra.cluster import KMedoids"
   ]
  },
  {
   "cell_type": "markdown",
   "metadata": {},
   "source": [
    "TRAFFIC数据集"
   ]
  },
  {
   "cell_type": "code",
   "execution_count": 34,
   "metadata": {},
   "outputs": [
    {
     "name": "stdout",
     "output_type": "stream",
     "text": [
      "dict_keys(['__header__', '__version__', '__globals__', 'truth', 'tracks_traffic'])\n",
      "(300, 50, 2)\n",
      "(300,)\n"
     ]
    }
   ],
   "source": [
    "data_m= loadmat(\"../TRAFFIC_dataset/TRAFFIC/TRAFFIC.mat\")\n",
    "print(data_m.keys())\n",
    "tracks = data_m[\"tracks_traffic\"]\n",
    "#print(tracks.shape)\n",
    "tracks=np.array(list(map(lambda x:x[0],tracks)))\n",
    "#print(tracks.shape)\n",
    "tracks=tracks.transpose([0,2,1])\n",
    "labels = data_m[\"truth\"][:, 0]#.reshape(1, -1)\n",
    "labels = labels.flatten()\n",
    "print(tracks.shape)\n",
    "print(labels.shape)"
   ]
  },
  {
   "cell_type": "code",
   "execution_count": 15,
   "metadata": {},
   "outputs": [
    {
     "name": "stderr",
     "output_type": "stream",
     "text": [
      "100%|██████████| 300/300 [13:16<00:00,  2.66s/it]\n"
     ]
    }
   ],
   "source": [
    "dis_mat = np.zeros([tracks.shape[0], tracks.shape[0]])\n",
    "with tqdm(total=tracks.shape[0]) as pbar1:\n",
    "    for num1,track1 in enumerate(tracks):\n",
    "        for num2,track2 in enumerate(tracks):\n",
    "            if num1 < num2:\n",
    "                dis=dtw_ndim.distance(track1, track2)\n",
    "                dis_mat[num1,num2]=dis\n",
    "                dis_mat[num2,num1]=dis\n",
    "        pbar1.update(1)\n",
    "np.save(\"TRAFFIC_dis_mat.npy\",dis_mat)"
   ]
  },
  {
   "cell_type": "code",
   "execution_count": 5,
   "metadata": {},
   "outputs": [
    {
     "ename": "NameError",
     "evalue": "name 'dis_mat' is not defined",
     "output_type": "error",
     "traceback": [
      "\u001b[1;31m---------------------------------------------------------------------------\u001b[0m",
      "\u001b[1;31mNameError\u001b[0m                                 Traceback (most recent call last)",
      "\u001b[1;32mE:\\SystemCache\\ipykernel_4464\\113478750.py\u001b[0m in \u001b[0;36m<module>\u001b[1;34m\u001b[0m\n\u001b[0;32m      1\u001b[0m \u001b[1;31m#similarity = np.exp(-beta * distance / distance.std())\u001b[0m\u001b[1;33m\u001b[0m\u001b[1;33m\u001b[0m\u001b[1;33m\u001b[0m\u001b[0m\n\u001b[1;32m----> 2\u001b[1;33m \u001b[0msim_mat\u001b[0m \u001b[1;33m=\u001b[0m \u001b[0mnp\u001b[0m\u001b[1;33m.\u001b[0m\u001b[0mexp\u001b[0m\u001b[1;33m(\u001b[0m\u001b[1;33m-\u001b[0m\u001b[1;36m0.5\u001b[0m \u001b[1;33m*\u001b[0m \u001b[0mdis_mat\u001b[0m \u001b[1;33m/\u001b[0m \u001b[0mdis_mat\u001b[0m\u001b[1;33m.\u001b[0m\u001b[0mstd\u001b[0m\u001b[1;33m(\u001b[0m\u001b[1;33m)\u001b[0m\u001b[1;33m)\u001b[0m\u001b[1;33m\u001b[0m\u001b[1;33m\u001b[0m\u001b[0m\n\u001b[0m\u001b[0;32m      3\u001b[0m \u001b[0mnp\u001b[0m\u001b[1;33m.\u001b[0m\u001b[0msave\u001b[0m\u001b[1;33m(\u001b[0m\u001b[1;34m\"TRAFFIC_sim_mat.npy\"\u001b[0m\u001b[1;33m,\u001b[0m \u001b[0msim_mat\u001b[0m\u001b[1;33m)\u001b[0m\u001b[1;33m\u001b[0m\u001b[1;33m\u001b[0m\u001b[0m\n",
      "\u001b[1;31mNameError\u001b[0m: name 'dis_mat' is not defined"
     ]
    }
   ],
   "source": [
    "#similarity = np.exp(-beta * distance / distance.std())\n",
    "sim_mat = np.exp(-0.5 * dis_mat / dis_mat.std())\n",
    "np.save(\"TRAFFIC_sim_mat.npy\", sim_mat)"
   ]
  },
  {
   "cell_type": "code",
   "execution_count": 6,
   "metadata": {},
   "outputs": [],
   "source": [
    "dis_mat=np.load(\"TRAFFIC_dis_mat.npy\")\n",
    "sim_mat=np.load(\"TRAFFIC_sim_mat.npy\")"
   ]
  },
  {
   "cell_type": "markdown",
   "metadata": {},
   "source": [
    "聚类算法实现"
   ]
  },
  {
   "cell_type": "code",
   "execution_count": 7,
   "metadata": {},
   "outputs": [
    {
     "name": "stdout",
     "output_type": "stream",
     "text": [
      "sse_max: 0.6671851662748234\n",
      "best_k: 11\n",
      "nmi: 0.9783256534398461\n",
      "ari: 0.9729666370986058\n"
     ]
    }
   ],
   "source": [
    "sse_max = -1\n",
    "best_k = 0\n",
    "sse_list = []\n",
    "for k in range(2, 21):\n",
    "    res = SpectralClustering(n_clusters=k, affinity='precomputed').fit(sim_mat)\n",
    "    tmp = sklearn.metrics.silhouette_score(X=dis_mat, labels=res.labels_, metric='precomputed' )\n",
    "    sse_list.append(tmp)\n",
    "    if tmp > sse_max:\n",
    "        sse_max = tmp\n",
    "        best_k = k\n",
    "best_res = SpectralClustering(n_clusters=best_k, affinity='precomputed').fit(sim_mat)\n",
    "nmi = sklearn.metrics.normalized_mutual_info_score(labels_true=labels, labels_pred=best_res.labels_)\n",
    "ari = sklearn.metrics.adjusted_rand_score(labels_true=labels, labels_pred=best_res.labels_)\n",
    "\n",
    "print(\"sse_max:\", sse_max)\n",
    "print(\"best_k:\", best_k)\n",
    "print(\"nmi:\", nmi)\n",
    "print(\"ari:\", ari)"
   ]
  },
  {
   "cell_type": "code",
   "execution_count": 25,
   "metadata": {},
   "outputs": [
    {
     "name": "stdout",
     "output_type": "stream",
     "text": [
      "sse_max: 0.641360449247166\n",
      "best_eps: 91\n",
      "nmi: 0.8833128598889024\n",
      "ari: 0.6956610137027762\n"
     ]
    }
   ],
   "source": [
    "norm_dis_mat = dis_mat / (dis_mat.max() - dis_mat.min()) * 1000.0\n",
    "#print(norm_dis_mat)\n",
    "best_eps = -1\n",
    "sse_max = -1\n",
    "sse_list = []\n",
    "for r in range(50, 200):\n",
    "    res = DBSCAN(eps=r, metric='precomputed').fit(norm_dis_mat)\n",
    "    #print(res.labels_)\n",
    "    tmp = sklearn.metrics.silhouette_score(X=norm_dis_mat, labels=res.labels_, metric='precomputed' )\n",
    "    sse_list.append(tmp)\n",
    "    if tmp > sse_max:\n",
    "        sse_max = tmp\n",
    "        best_eps = r\n",
    "nmi = sklearn.metrics.normalized_mutual_info_score(labels_true=labels, labels_pred=res.labels_)\n",
    "ari = sklearn.metrics.adjusted_rand_score(labels_true=labels, labels_pred=res.labels_)\n",
    "print(\"sse_max:\", sse_max)\n",
    "print(\"best_eps:\", best_eps)\n",
    "print(\"nmi:\", nmi)\n",
    "print(\"ari:\", ari)"
   ]
  },
  {
   "cell_type": "code",
   "execution_count": 28,
   "metadata": {},
   "outputs": [
    {
     "name": "stdout",
     "output_type": "stream",
     "text": [
      "sse_max: 0.6059285686697852\n",
      "best_k: 15\n",
      "nmi: 0.9053089595463958\n",
      "ari: 0.780678824240687\n"
     ]
    }
   ],
   "source": [
    "sse_max = -1\n",
    "best_k = 0\n",
    "sse_list = []\n",
    "for k in range(2, 21):\n",
    "    res = KMedoids(n_clusters=k, metric='precomputed').fit(dis_mat)\n",
    "    tmp = sklearn.metrics.silhouette_score(X=dis_mat, labels=res.labels_, metric='precomputed' )\n",
    "    sse_list.append(tmp)\n",
    "    if tmp > sse_max:\n",
    "        sse_max = tmp\n",
    "        best_k = k\n",
    "best_res = KMedoids(n_clusters=best_k, metric='precomputed').fit(dis_mat)\n",
    "nmi = sklearn.metrics.normalized_mutual_info_score(labels_true=labels, labels_pred=best_res.labels_)\n",
    "ari = sklearn.metrics.adjusted_rand_score(labels_true=labels, labels_pred=best_res.labels_)\n",
    "\n",
    "print(\"sse_max:\", sse_max)\n",
    "print(\"best_k:\", best_k)\n",
    "print(\"nmi:\", nmi)\n",
    "print(\"ari:\", ari)"
   ]
  }
 ],
 "metadata": {
  "interpreter": {
   "hash": "450770b194ad3c526d72e78f0fffc46d9f199ddffc77daa2aadce905eb3548da"
  },
  "kernelspec": {
   "display_name": "Python 3.7.9 64-bit",
   "name": "python3"
  },
  "language_info": {
   "codemirror_mode": {
    "name": "ipython",
    "version": 3
   },
   "file_extension": ".py",
   "mimetype": "text/x-python",
   "name": "python",
   "nbconvert_exporter": "python",
   "pygments_lexer": "ipython3",
   "version": "3.7.9"
  },
  "orig_nbformat": 4
 },
 "nbformat": 4,
 "nbformat_minor": 2
}
